{
 "cells": [
  {
   "cell_type": "markdown",
   "metadata": {},
   "source": [
    "# **Leafmap for geospatial visualisations**"
   ]
  },
  {
   "cell_type": "markdown",
   "metadata": {},
   "source": [
    "#### Import the necessary packages"
   ]
  },
  {
   "cell_type": "code",
   "execution_count": null,
   "metadata": {},
   "outputs": [],
   "source": [
    "import os\n",
    "import leafmap.leafmap as leafmap\n",
    "from area import area\n",
    "import pyvista as pv"
   ]
  },
  {
   "cell_type": "markdown",
   "metadata": {},
   "source": [
    "#### We will create and interactive map. Below we set our center, zoom level and map window size. A certain basemap has been set (CyclOSM) ;-), but after the map has loaded, you can browse and change the basemap by clicking on the tool icon in the top right corner and subsequently on the map symbol (top left)."
   ]
  },
  {
   "cell_type": "code",
   "execution_count": null,
   "metadata": {},
   "outputs": [],
   "source": [
    "m = leafmap.Map(center=(47.3966, 8.5494), zoom=16, height=\"800px\", width=\"100%\")\n",
    "m.add_basemap(\"CyclOSM\")\n",
    "m"
   ]
  },
  {
   "cell_type": "markdown",
   "metadata": {},
   "source": [
    "#### After playing with different basemaps, let's set it to \"CartoDB.Positron\" for a clean background. Now move your map to Darnah on the coast of Libya and open the toolbox again. Click on the airplane symbol to open \"OpenAerialMap\", which currently holds over 15'000 free UAV and high res satellite images, including some open disaster response data from Maxar. In the input window, leave all fields as they are and press search. You should see some high res satellite imagery and you can inspect the metadata. Check also the layer options through the layer symbol that pops up next to the toolbox symbol.\n",
    "\n",
    "#### You might want a list of available images. Let's try it with code and create a geodataframe of the results."
   ]
  },
  {
   "cell_type": "code",
   "execution_count": null,
   "metadata": {},
   "outputs": [],
   "source": [
    "bbox = [22.5, 32, 23, 33]\n",
    "gdf = leafmap.oam_search(\n",
    "    bbox=bbox, return_gdf=True\n",
    ")\n",
    "print(f\"Found {len(gdf)} images\")"
   ]
  },
  {
   "cell_type": "code",
   "execution_count": null,
   "metadata": {},
   "outputs": [],
   "source": [
    "gdf.head(2)"
   ]
  },
  {
   "cell_type": "code",
   "execution_count": null,
   "metadata": {},
   "outputs": [],
   "source": [
    "images = gdf[\"uuid\"].tolist()\n",
    "images[:4]"
   ]
  },
  {
   "cell_type": "markdown",
   "metadata": {},
   "source": [
    "#### Scientific publications in the field of remote sensing often show image comparisons: the ultimate thing to visualize in a complementary notebook. For convenience, let's use the image links that we just created above. We can do all this without even downloading the data!"
   ]
  },
  {
   "cell_type": "code",
   "execution_count": null,
   "metadata": {},
   "outputs": [],
   "source": [
    "url1 = \"https://oin-hotosm.s3.us-east-1.amazonaws.com/6502980d0906de000167e681/0/6502980d0906de000167e682.tif\"\n",
    "url2 = \"https://oin-hotosm.s3.us-east-1.amazonaws.com/6502b20a0906de000167e691/0/6502b20a0906de000167e692.tif\"\n",
    "m.split_map(\n",
    "    left_layer=url1, \n",
    "    right_layer=url2\n",
    "    )\n",
    "m"
   ]
  },
  {
   "cell_type": "markdown",
   "metadata": {},
   "source": [
    "#### Now, back to tracing our iceberg. Measuring would be cool, so outsiders can actually verify those claims about the size of icebergs! I've preselected the right image, there is no need to search."
   ]
  },
  {
   "cell_type": "code",
   "execution_count": null,
   "metadata": {},
   "outputs": [],
   "source": [
    "url = \"https://planetarycomputer.microsoft.com/api/stac/v1/collections/sentinel-1-grd\"\n",
    "collection = \"sentinel-1-grd\"\n",
    "item = \"S1B_EW_GRDH_1SDH_20191213T074429_20191213T074529_019343_024886\"\n",
    "\n",
    "m = leafmap.Map()\n",
    "m.add_basemap(\"Esri.OceanBasemap\")\n",
    "m.add_stac_layer(\n",
    "    collection=collection,\n",
    "    item=item,\n",
    "    assets=[\"hh\"],\n",
    "    name=\"A68a as seen by Sentinel-1\",\n",
    ")\n",
    "m"
   ]
  },
  {
   "cell_type": "markdown",
   "metadata": {},
   "source": [
    "#### Feel free to use the drawing tools on the left hand side and follow the outlines of A68a. You can also directly measure the length of the side we saw in the video."
   ]
  },
  {
   "cell_type": "code",
   "execution_count": null,
   "metadata": {},
   "outputs": [],
   "source": [
    "geom = m.user_roi\n",
    "iceberg_polygon = geom[\"geometry\"]\n",
    "area(iceberg_polygon)\n",
    "print(f\"Area of the iceberg: {area(iceberg_polygon):,.0f} square meters\")"
   ]
  },
  {
   "cell_type": "markdown",
   "metadata": {},
   "source": [
    "#### Sometimes, it is nice to show multiple maps with different layers or different timestamps to allow inspection by the reader..."
   ]
  },
  {
   "cell_type": "code",
   "execution_count": null,
   "metadata": {},
   "outputs": [],
   "source": [
    "layers = [str(f\"NLCD {year} CONUS Land Cover\") for year in [2001, 2006, 2011, 2016]]\n",
    "labels = [str(f\"NLCD {year}\") for year in [2001, 2006, 2011, 2016]]\n",
    "leafmap.linked_maps(\n",
    "    rows=2,\n",
    "    cols=2,\n",
    "    height=\"300px\",\n",
    "    layers=layers,\n",
    "    labels=labels,\n",
    "    center=[36.1, -115.2],\n",
    "    zoom=9,\n",
    ")"
   ]
  },
  {
   "cell_type": "markdown",
   "metadata": {},
   "source": [
    "#### Thanks to Jasmin her data, we can also inspect and visualize Lidar data, in 3D. Difficult to do this in publications, therefor perfect additional Notebook material!"
   ]
  },
  {
   "cell_type": "code",
   "execution_count": null,
   "metadata": {},
   "outputs": [],
   "source": [
    "file = '/Users/jochem/GitHub/BraakhekkeUZH/timelapse/tile_10_30_normd9eae1d66b5be10ee626dea1aceed548ac28e5cd4560cc2bd7392f31e962be1e.laz'\n",
    "las = leafmap.read_lidar(file)"
   ]
  },
  {
   "cell_type": "code",
   "execution_count": null,
   "metadata": {},
   "outputs": [],
   "source": [
    "las.header.point_count"
   ]
  },
  {
   "cell_type": "code",
   "execution_count": null,
   "metadata": {},
   "outputs": [],
   "source": [
    "list(las.point_format.dimension_names)"
   ]
  },
  {
   "cell_type": "code",
   "execution_count": null,
   "metadata": {},
   "outputs": [],
   "source": [
    "pv.set_jupyter_backend('trame')\n",
    "prop = pv.Property()\n",
    "prop.point_size = 2\n",
    "prop.style = \"points\""
   ]
  },
  {
   "cell_type": "code",
   "execution_count": null,
   "metadata": {},
   "outputs": [],
   "source": [
    "leafmap.view_lidar(file, cmap=\"spectral\", backend=\"pyvista\")"
   ]
  },
  {
   "cell_type": "markdown",
   "metadata": {},
   "source": [
    "#### And as a last teaser for all geographers, an interactive geojson visualized right here."
   ]
  },
  {
   "cell_type": "code",
   "execution_count": null,
   "metadata": {},
   "outputs": [],
   "source": [
    "m = leafmap.Map(center=[0, 0], zoom=2)\n",
    "url = \"https://raw.githubusercontent.com/opengeos/leafmap/master/examples/data/countries.geojson\"\n",
    "style = {\"fillOpacity\": 0.5}\n",
    "m.add_geojson(\n",
    "    url,\n",
    "    layer_name=\"Countries\",\n",
    "    style=style,\n",
    "    fill_colors=[\"red\", \"yellow\", \"green\", \"orange\"],\n",
    ")\n",
    "m"
   ]
  },
  {
   "cell_type": "markdown",
   "metadata": {},
   "source": [
    "## Thanks for your participation and play on!"
   ]
  }
 ],
 "metadata": {
  "kernelspec": {
   "display_name": "coll",
   "language": "python",
   "name": "python3"
  },
  "language_info": {
   "codemirror_mode": {
    "name": "ipython",
    "version": 3
   },
   "file_extension": ".py",
   "mimetype": "text/x-python",
   "name": "python",
   "nbconvert_exporter": "python",
   "pygments_lexer": "ipython3",
   "version": "3.12.1"
  }
 },
 "nbformat": 4,
 "nbformat_minor": 2
}
